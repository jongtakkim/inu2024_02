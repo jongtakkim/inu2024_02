{
  "nbformat": 4,
  "nbformat_minor": 0,
  "metadata": {
    "colab": {
      "provenance": [],
      "include_colab_link": true
    },
    "kernelspec": {
      "name": "python3",
      "display_name": "Python 3"
    },
    "language_info": {
      "name": "python"
    }
  },
  "cells": [
    {
      "cell_type": "markdown",
      "metadata": {
        "id": "view-in-github",
        "colab_type": "text"
      },
      "source": [
        "<a href=\"https://colab.research.google.com/github/jongtakkim/inu2024_02/blob/main/14%EC%A3%BC%EC%B0%A8_%EC%88%98%EC%97%85%EC%9E%90%EB%A3%8C(%EC%9B%90%EB%B3%B8).ipynb\" target=\"_parent\"><img src=\"https://colab.research.google.com/assets/colab-badge.svg\" alt=\"Open In Colab\"/></a>"
      ]
    },
    {
      "cell_type": "markdown",
      "source": [
        "###1. 과목의 점수를 리스트에 저장하고, 점수가 70점 이상인 과목 수를 출력\n",
        "###score = [72,65,88,92,76,53,45,82]"
      ],
      "metadata": {
        "id": "whu_scnnkd7K"
      }
    },
    {
      "cell_type": "code",
      "execution_count": null,
      "metadata": {
        "colab": {
          "base_uri": "https://localhost:8080/"
        },
        "id": "sbaaY_v1kZ4L",
        "outputId": "3d84ae93-f8b7-4693-8446-b66275d0704f"
      },
      "outputs": [
        {
          "output_type": "stream",
          "name": "stdout",
          "text": [
            "70점 이상인 과목 수 : 5\n"
          ]
        }
      ],
      "source": [
        "score = [72,65,88,92,76,53,45,82]\n",
        "cnt = 0  # 70점 이상인 과목수를 저장 변수\n",
        "for i in range(8) :\n",
        "  if score[i] >= 70 :\n",
        "    cnt = cnt + 1\n",
        "\n",
        "print(f\"70점 이상인 과목 수 : {cnt}\")"
      ]
    },
    {
      "cell_type": "markdown",
      "source": [
        "###2. 시작값과 끝값을 입력 받아서 시작값부터 끝값까지의 전체합,홀수합,짝수합을 구하여라"
      ],
      "metadata": {
        "id": "IlQzReJWkxlp"
      }
    },
    {
      "cell_type": "code",
      "source": [
        "total = 0 #전체합 구하는 변수\n",
        "odd = 0 # 홀수의 합을 수하는 별수\n",
        "even = 0 # 짝수의 합을 구하는 변수\n",
        "start = int(input(\"시작값 : \"))\n",
        "end = int(input(\"끝값 : \"))\n",
        "\n",
        "for i in range(start,end+1) :\n",
        "  total = total + i\n",
        "  if i % 2 == 1 :\n",
        "    odd = odd + i\n",
        "  else :\n",
        "    even = even + i\n",
        "\n",
        "print(f\"{start}부터 {end}까지 전체합:{total}, 홀수합:{odd}, 짝수합:{even}\")"
      ],
      "metadata": {
        "colab": {
          "base_uri": "https://localhost:8080/"
        },
        "id": "NYssPeY-k0gw",
        "outputId": "337da71f-e7ba-4eb7-ba7f-78d36cd67aa9"
      },
      "execution_count": null,
      "outputs": [
        {
          "output_type": "stream",
          "name": "stdout",
          "text": [
            "시작값 : 5\n",
            "끝값 : 12\n",
            "5부터 12까지 전체합:68, 홀수합:32, 짝수합:36\n"
          ]
        }
      ]
    },
    {
      "cell_type": "markdown",
      "source": [
        "###3. 철수:90점  화사:85점 재민:77점 유리:65점 순신 : 72점\n",
        "###5명의 점수를 확인해서 학점을 출력하여라\n",
        "###출력 : 철수는 90점이고 학점은 A 입니다. (5명이 출력)\n",
        "###90점이상 A 80점이상 B 70점이상 C 60점이상 D 60점 미만 F"
      ],
      "metadata": {
        "id": "rZKJboPMlULp"
      }
    },
    {
      "cell_type": "code",
      "source": [
        "score = {'철수':90,'화사':85,'재민':77,'유리':65,'순신':72}\n",
        "\n",
        "for i in score.keys() :\n",
        "  if score[i] >= 90 :\n",
        "    result = 'A'\n",
        "  elif score[i] >= 80 :\n",
        "    result = 'B'\n",
        "  elif score[i] >= 70 :\n",
        "    result = 'C'\n",
        "  elif score[i] >= 60 :\n",
        "    result = 'D'\n",
        "  else :\n",
        "    result = 'F'\n",
        "  print(f\"{i}는 {score[i]}점이고 학점은 {result}입니다.\")"
      ],
      "metadata": {
        "colab": {
          "base_uri": "https://localhost:8080/"
        },
        "id": "zoZexMNnlWLo",
        "outputId": "0c9807da-55d1-4db4-85c8-65bd40f9965f"
      },
      "execution_count": null,
      "outputs": [
        {
          "output_type": "stream",
          "name": "stdout",
          "text": [
            "철수는 90점이고 학점은 A입니다.\n",
            "화사는 85점이고 학점은 B입니다.\n",
            "재민는 77점이고 학점은 C입니다.\n",
            "유리는 65점이고 학점은 D입니다.\n",
            "순신는 72점이고 학점은 C입니다.\n"
          ]
        }
      ]
    },
    {
      "cell_type": "markdown",
      "source": [
        "###4. 아래 리스트의 값을 사용하여 순위를 구하시오\n",
        "###   score=[70,80,60,100,50]"
      ],
      "metadata": {
        "id": "mR4O34CL2mSQ"
      }
    },
    {
      "cell_type": "code",
      "source": [
        "score=[70,80,60,100,50]\n",
        "rank=[0]*5\n",
        "n=len(score)\n",
        "for i in range(n) :\n",
        "  rank[i] = 1\n",
        "  for j in range(n) :\n",
        "    if score[i] < score[j] :\n",
        "      rank[i] += 1\n",
        "\n",
        "for i in range(n) :\n",
        "  print(f\"점수 : {score[i]}점  등수 : {rank[i]}등\")"
      ],
      "metadata": {
        "colab": {
          "base_uri": "https://localhost:8080/"
        },
        "id": "sruYHHf92kOg",
        "outputId": "6093d015-4138-4df4-fa63-2636ec6a3fa5"
      },
      "execution_count": null,
      "outputs": [
        {
          "output_type": "stream",
          "name": "stdout",
          "text": [
            "점수 : 70점  등수 : 3등\n",
            "점수 : 80점  등수 : 2등\n",
            "점수 : 60점  등수 : 4등\n",
            "점수 : 100점  등수 : 1등\n",
            "점수 : 50점  등수 : 5등\n"
          ]
        }
      ]
    },
    {
      "cell_type": "markdown",
      "source": [
        "###5. 학생수와 학생별 점수를 입력받아 리스트에 저장하고 각 점수별 순위를 출력하시오"
      ],
      "metadata": {
        "id": "oDc6tN3q2wBq"
      }
    },
    {
      "cell_type": "code",
      "source": [
        "score=[]\n",
        "\n",
        "cnt=int(input('학생 수 : '))\n",
        "\n",
        "for i in range(cnt) :\n",
        "  s = int(input(f'{i+1}번째 학생점수 : '))\n",
        "  score.append(s)\n",
        "\n",
        "rank=[0]*cnt\n",
        "n=len(score)\n",
        "for i in range(n) :\n",
        "  rank[i] = 1\n",
        "  for j in range(n) :\n",
        "    if score[i] < score[j] :\n",
        "      rank[i] += 1\n",
        "print('---------  학생별 등수 ---------------')\n",
        "for i in range(n) :\n",
        "  print(f\"{i+1}번째 학생의 점수 : {score[i]} 순위 : {rank[i]}등\")"
      ],
      "metadata": {
        "colab": {
          "base_uri": "https://localhost:8080/"
        },
        "id": "ItUExor72ztn",
        "outputId": "d375efe8-3c56-490e-b269-e9468c4de7ea"
      },
      "execution_count": null,
      "outputs": [
        {
          "output_type": "stream",
          "name": "stdout",
          "text": [
            "학생 수 : 5\n",
            "1번째 학생점수 : 85\n",
            "2번째 학생점수 : 75\n",
            "3번째 학생점수 : 95\n",
            "4번째 학생점수 : 82\n",
            "5번째 학생점수 : 68\n",
            "---------  학생별 등수 ---------------\n",
            "1번째 학생의 점수 : 85 순위 : 2등\n",
            "2번째 학생의 점수 : 75 순위 : 4등\n",
            "3번째 학생의 점수 : 95 순위 : 1등\n",
            "4번째 학생의 점수 : 82 순위 : 3등\n",
            "5번째 학생의 점수 : 68 순위 : 5등\n"
          ]
        }
      ]
    },
    {
      "cell_type": "markdown",
      "source": [
        "###6. 아래 메뉴를 입력문을 사용하여 dictionary에 저장하고 출력결과와 같이 출력하고 검색기능을 추가하세요"
      ],
      "metadata": {
        "id": "ExeSTCJI3bd2"
      }
    },
    {
      "cell_type": "markdown",
      "source": [
        "![딕션어리.PNG](data:image/png;base64,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)"
      ],
      "metadata": {
        "id": "ZCZJlNBz3dl_"
      }
    },
    {
      "cell_type": "code",
      "source": [
        "menu={}\n",
        "\n",
        "menu['라면'] = 3000\n",
        "menu['떡볶기'] = 4000\n",
        "menu['김밥'] = 2000\n",
        "menu['햄버거'] = 5000\n",
        "#for i in range(4) :\n",
        "#    name = input(f'{i+1}번째 메뉴 : ')\n",
        "#    price = int(input(f'{name} 메뉴의 가격 : '))\n",
        "#    menu[name] = price\n",
        "print('-----------  메뉴판 -------------')\n",
        "for i in menu.keys() :\n",
        "  print(f\"{i}-{menu[i]}원\")\n",
        "print('-' * 30)\n",
        "while True :\n",
        "  s=input(\"찾고자 하는 매뉴 (종료:q) \")\n",
        "  if s=='q' :\n",
        "    print(\"프로그램 종료\")\n",
        "    break\n",
        "  if s in menu.keys() :\n",
        "    print(f\"{s}는 {menu[s]}원입니다.\")\n",
        "  else :\n",
        "    print(f\"{s}는 메뉴에 없습니다.\")"
      ],
      "metadata": {
        "colab": {
          "base_uri": "https://localhost:8080/"
        },
        "id": "mt3NkMlE3fYT",
        "outputId": "d32144e3-a840-4038-e3da-8614e17f94dc"
      },
      "execution_count": 2,
      "outputs": [
        {
          "output_type": "stream",
          "name": "stdout",
          "text": [
            "-----------  메뉴판 -------------\n",
            "라면-3000원\n",
            "떡볶기-4000원\n",
            "김밥-2000원\n",
            "햄버거-5000원\n",
            "------------------------------\n",
            "찾고자 하는 매뉴 (종료:q)라면\n",
            "라면는 3000원입니다.\n",
            "찾고자 하는 매뉴 (종료:q)김밥\n",
            "김밥는 2000원입니다.\n",
            "찾고자 하는 매뉴 (종료:q)우동\n",
            "우동는 메뉴에 없습니다.\n",
            "찾고자 하는 매뉴 (종료:q)q\n",
            "프로그램 종료\n"
          ]
        }
      ]
    }
  ]
}